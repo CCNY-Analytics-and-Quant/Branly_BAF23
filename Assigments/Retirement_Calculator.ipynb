{
 "cells": [
  {
   "cell_type": "code",
   "execution_count": null,
   "metadata": {},
   "outputs": [],
   "source": [
    "acct_bal = float(input('What is your current account balance? '))\n",
    "deposit = float(input('How much will you contribute every year? '))\n",
    "cur_age = int(input('What is your current age?'))\n",
    "ret_age = int(input('What age do you anticipate retiring at?'))\n",
    "\n",
    "salary = float(input('What is your current salary?'))\n",
    "rf_rate = float(input('What is the annual increase in your salary?'))\n",
    "match_rate = float(input('What percentange will your company match?'))\n",
    "matching = 0\n",
    "annual_return = float(input('What is your annual investment return?'))\n",
    "\n",
    "for year in range(cur_age, ret_age):\n",
    "    salary *= 1 + rf_rate\n",
    "    matching = salary * match_rate\n",
    "    acct_bal += deposit + matching\n",
    "    acct_bal *= 1 + annual_return\n",
    "\n",
    "print(\"Your projected account balance at retirement age is:\", acct_bal)"
   ]
  },
  {
   "cell_type": "code",
   "execution_count": null,
   "metadata": {},
   "outputs": [],
   "source": [
    "cur_age = int(input('What is your current age?'))\n",
    "acct_bal = float(input('What is your current account balance? '))\n",
    "deposit = float(input('How much will you contribute every year? '))\n",
    "salary = float(input('What is your current salary?'))\n",
    "rf_rate = float(input('What is the annual increase in your salary?'))\n",
    "match_rate = float(input('What percentange will your company match?'))\n",
    "matching = 0\n",
    "annual_return = float(input('What is your annual investment return?'))\n",
    "desired_retirement_bal = float(input('What is your desired balance to retire?'))\n",
    "years = 0\n",
    "\n",
    "while acct_bal < desired_retirement_bal:\n",
    "    salary *= 1 + rf_rate\n",
    "    matching = salary * match_rate\n",
    "    acct_bal += deposit + matching\n",
    "    acct_bal *= 1 + annual_return\n",
    "    years += 1\n",
    "        \n",
    "final_age = cur_age + years\n",
    "    \n",
    "print(\"You can retire at age:\", final_age)\n",
    "print(\"Your retirement balance will be:\", acct_bal)"
   ]
  }
 ],
 "metadata": {
  "kernelspec": {
   "display_name": "Python 3",
   "language": "python",
   "name": "python3"
  },
  "language_info": {
   "name": "python",
   "version": "3.10.2"
  }
 },
 "nbformat": 4,
 "nbformat_minor": 2
}
